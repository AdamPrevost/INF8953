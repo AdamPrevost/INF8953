{
 "cells": [
  {
   "cell_type": "markdown",
   "metadata": {},
   "source": [
    "# RL Project"
   ]
  },
  {
   "cell_type": "code",
   "execution_count": 1,
   "metadata": {
    "ExecuteTime": {
     "end_time": "2021-12-08T01:32:58.056071Z",
     "start_time": "2021-12-08T01:32:57.736192Z"
    }
   },
   "outputs": [],
   "source": [
    "# imports\n",
    "import numpy as np\n",
    "import matplotlib.pyplot as plt\n",
    "import matplotlib.colors as mcolors\n",
    "import matplotlib.patches as mpatches\n",
    "from enum import IntEnum"
   ]
  },
  {
   "cell_type": "markdown",
   "metadata": {},
   "source": [
    "## 1. Environment & MDP methods"
   ]
  },
  {
   "cell_type": "code",
   "execution_count": 2,
   "metadata": {
    "ExecuteTime": {
     "end_time": "2021-12-08T01:33:36.468883Z",
     "start_time": "2021-12-08T01:33:36.406160Z"
    }
   },
   "outputs": [],
   "source": [
    "class Action(IntEnum):\n",
    "    STAY = 0\n",
    "    UP = 1\n",
    "    DOWN = 2\n",
    "    LEFT = 3\n",
    "    RIGHT = 4\n",
    "\n",
    "class MDP:\n",
    "    \n",
    "    # How to use : (even though all our PI methods don't use step())\n",
    "    #\n",
    "    # Use mdp.call(state, action) to get info on the environment.\n",
    "    # --> Do NOT use T & R matrices to get info on the environnement.\n",
    "    # --> You CAN use mdp.utils methods, as long as it has a update_n_calls parameter.\n",
    "    # Use mdp.step(action) to move the agent .\n",
    "    # Use mdp.V to store & update state values.\n",
    "    # Use mdp.n_calls to get the number of calls made to the environnement.\n",
    "    # Use mdp.reset() when the episode has ended to start over.\n",
    "\n",
    "    def __init__(self, N = 5, discount_factor = 0.97, reward_range = 0.1):\n",
    "        self.N = N\n",
    "        self.n_states = N * N\n",
    "        self.discount_factor = discount_factor\n",
    "        self.reward_range = reward_range\n",
    "        self.reset()\n",
    "        self.T = self.generate_transition_matrix(N)\n",
    "        self.R = self.generate_rewards(self.N, self.reward_range)\n",
    "        self.displayer = MDP_Displayer(self)\n",
    "        self.utils = MDP_Utils(self)\n",
    "    \n",
    "    def generate_transition_matrix(self, N):\n",
    "        transition_matrix = np.zeros((N * N, len(Action)), dtype=int)\n",
    "        for s, state in enumerate(transition_matrix):\n",
    "            state[Action.UP] = s - N if s >= N else s\n",
    "            state[Action.DOWN] = s + N if s < N * N - N else s\n",
    "            state[Action.LEFT] = s - 1 if s % N else s\n",
    "            state[Action.RIGHT] = s + 1 if (s + 1) % N else s\n",
    "            state[Action.STAY] = s\n",
    "        return transition_matrix\n",
    "    \n",
    "    def generate_rewards(self, N, reward_range):\n",
    "        rewards = np.random.uniform(-reward_range, reward_range, N * N)\n",
    "        rewards[np.random.randint(0, N * N)] = 1\n",
    "        return rewards\n",
    "    \n",
    "    def generate_state_values(self, N):\n",
    "        return np.random.normal(size = N * N)\n",
    "    \n",
    "    def reset(self):\n",
    "        self.n_calls = 0\n",
    "        self.state = 0 # Paper does no mention what state to start on: 0 or random ?\n",
    "#         self.R = self.generate_rewards(self.N, self.reward_range)\n",
    "        self.V = self.generate_state_values(self.N)\n",
    "    \n",
    "    def step(self, action):\n",
    "        self.state = self.T[self.state, action]\n",
    "        return self.state, self.R[self.state]\n",
    "    \n",
    "    def call(self, state, action):\n",
    "        self.n_calls += 1\n",
    "        new_state = self.T[state, action]\n",
    "        return new_state, self.R[new_state]\n",
    "        \n",
    "class MDP_Displayer:\n",
    "    \n",
    "    def __init__(self, mdp):\n",
    "        self.mdp = mdp\n",
    "        self.set_action_colors()\n",
    "    \n",
    "    def display_rewards(self, numerical = False, colorbar = True, ticks = False, title = \"Rewards\"):\n",
    "        self.display_heatmap(self.mdp.R, numerical, colorbar, ticks, title)\n",
    "    \n",
    "    def display_state_values(self, numerical = False, colorbar = True, ticks = False, title = \"State values\"):\n",
    "        self.display_heatmap(self.mdp.V, numerical, colorbar, ticks, title)\n",
    "        \n",
    "    def display_actions_based_on_rewards(self, ticks = False, title = \"Best actions based on rewards\"):\n",
    "        self.display_actions(self.mdp.utils.get_best_actions_based_on_rewards(False), ticks, title)\n",
    "    \n",
    "    def display_actions_based_on_state_values(self, ticks = False, title = \"Best actions based on state values\"):\n",
    "        self.display_actions(self.mdp.utils.get_best_actions_based_on_state_values(), ticks, title)\n",
    "    \n",
    "    def display_heatmap(self, array, numerical = False, colorbar = True, ticks = False, title = \"Heatmap\"):\n",
    "        data = np.reshape(array, (self.mdp.N, self.mdp.N))\n",
    "        if not ticks: self.remove_ticks()\n",
    "        if numerical: self.add_numerical(data)\n",
    "        plt.imshow(data)\n",
    "        plt.title(title)\n",
    "        if colorbar: plt.colorbar()\n",
    "        plt.show()\n",
    "        \n",
    "    def display_actions(self, actions, ticks = False, title = \"Actions\"):  \n",
    "        self.add_action_legend()\n",
    "        data = np.reshape(actions, (self.mdp.N, self.mdp.N))\n",
    "        if not ticks: self.remove_ticks()\n",
    "        plt.imshow(data, cmap = self.action_cmap, norm = self.action_norm)\n",
    "        plt.title(title)\n",
    "        plt.show()\n",
    "    \n",
    "    def remove_ticks(self):\n",
    "        plt.gca().set_xticklabels([])\n",
    "        plt.gca().set_yticklabels([])\n",
    "        for tick in plt.gca().xaxis.get_major_ticks():\n",
    "            tick.tick1line.set_visible(False)\n",
    "            tick.tick2line.set_visible(False)\n",
    "        for tick in plt.gca().yaxis.get_major_ticks():\n",
    "            tick.tick1line.set_visible(False)\n",
    "            tick.tick2line.set_visible(False)\n",
    "    \n",
    "    # Adds numerical data inside each cell of the plot\n",
    "    def add_numerical(self, data):\n",
    "        image = plt.imshow(data)\n",
    "        threshold = image.norm(data.max()) * 2/3\n",
    "        for i in range(len(data)):\n",
    "            for j in range(len(data[i])):\n",
    "                color = int(image.norm(data[i, j]) < threshold)\n",
    "                text = plt.gca().text(j, i, round(data[i, j], 2),\n",
    "                                      ha = \"center\", va = \"center\", color = str(color))\n",
    "    \n",
    "    def add_action_legend(self):\n",
    "        handles = []\n",
    "        for i, action in enumerate(Action):\n",
    "            handles.append(mpatches.Patch(color = self.action_colors[i],\n",
    "                                          label = str(action)[str(action).find(\".\") + 1:]))\n",
    "        plt.legend(title=\"Actions\", handles = handles, loc='upper left', bbox_to_anchor=(1, 1))\n",
    "        \n",
    "    def set_action_colors(self):\n",
    "        self.action_colors = [\"purple\", \"red\", \"blue\", \"green\", \"yellow\"]\n",
    "        self.action_cmap = mcolors.ListedColormap(self.action_colors)\n",
    "        self.action_norm = mcolors.BoundaryNorm(list(range(len(Action) + 1)), self.action_cmap.N)\n",
    "        \n",
    "class MDP_Utils:\n",
    "    \n",
    "    def __init__(self, mdp):\n",
    "        self.mdp = mdp\n",
    "        \n",
    "    # GENERATIVE METHODS ========================================================================\n",
    "        \n",
    "    # Warning: depth > 9 will most likely crash your kernel\n",
    "    def get_action_trajecories(self, depth):\n",
    "        return np.array(np.meshgrid(*[Action] * depth)).T.reshape(-1, depth)\n",
    "    \n",
    "    def get_uniform_policy(self):\n",
    "        return np.ones((self.mdp.n_states, len(Action)), dtype=int) / len(Action)\n",
    "    \n",
    "    def get_greedy_policy(self):\n",
    "        return self.actions_to_greedy_policy(self.get_best_actions_based_on_rewards())\n",
    "        \n",
    "    # INFORMATIVE METHODS =======================================================================\n",
    "    \n",
    "    def get_best_actions_based_on_rewards(self, update_n_calls = True):\n",
    "        return np.argmax(self.get_action_rewards(update_n_calls), 1)\n",
    "    \n",
    "    def get_best_actions_based_on_state_values(self):\n",
    "        return np.argmax(self.get_action_state_values(), 1)   \n",
    "    \n",
    "    # Return rewards array of size (n_state, actions)\n",
    "    def get_action_rewards(self, update_n_calls = True):\n",
    "        action_rewards = self.mdp.R[self.mdp.T]\n",
    "        if update_n_calls: self.mdp.n_calls += self.mdp.n_states * len(Action)\n",
    "        return action_rewards\n",
    "    \n",
    "    # Return state values array of size (n_state, actions), aka the value of the next state\n",
    "    def get_action_state_values(self):\n",
    "        action_state_values = self.mdp.V[self.mdp.T]\n",
    "        return action_state_values\n",
    "    \n",
    "    # CONVERSION METHODS ========================================================================\n",
    "        \n",
    "    def actions_to_greedy_policy(self, best_actions):\n",
    "        return np.eye(len(Action))[best_actions]\n",
    "    \n",
    "    def greedy_policy_to_actions(self, policy):\n",
    "        return np.argmax(policy, 1)\n",
    "    \n",
    "    # top_left=(0,0) any_coord=(row, column)\n",
    "    def state_to_coord(self, state):\n",
    "        return (int(np.floor(state / self.mdp.N)), state % self.mdp.N)\n",
    "    \n",
    "    # top_left=(0,0) any_coord=(row, column)\n",
    "    def coord_to_state(self, coord):\n",
    "        return coord[0] * self.mdp.N + coord[1]\n",
    "    \n",
    "    # BELLMAN METHODS =====================================================================\n",
    "    #\n",
    "    # check out this link for a better explanation of R, P, V & T than the paper's\n",
    "    # https://ai.stackexchange.com/questions/11057/what-is-the-bellman-operator-in-reinforcement-learning\n",
    "    \n",
    "    # Corresponds to bellman's P^π in the paper\n",
    "    def get_bellman_transition_kernel(self, policy):\n",
    "        P = np.zeros((self.mdp.n_states, self.mdp.n_states))\n",
    "        for s, state_transition in enumerate(self.mdp.T):\n",
    "            for action in Action:\n",
    "                P[s, state_transition[action]] += policy[s, action] # Should we update n_calls?\n",
    "        return P\n",
    "    \n",
    "    # Corresponds to bellman's r^π in the paper\n",
    "    def get_bellman_rewards(self, policy, update_n_calls = True):\n",
    "        if update_n_calls: self.mdp.n_calls += self.mdp.n_states * len(Action)\n",
    "        return np.sum(self.mdp.R[self.mdp.T] * policy, 1)\n",
    "    \n",
    "    # Corresponds to T^π in the paper\n",
    "    def bellman_operator(self, V, update_n_calls = True, policy = None):\n",
    "        if policy is None: policy = self.get_uniform_policy()\n",
    "        R = self.get_bellman_rewards(policy, update_n_calls)\n",
    "        P = self.get_bellman_transition_kernel(policy)\n",
    "        V = R + self.mdp.discount_factor * P.dot(V)\n",
    "        return V\n",
    "    \n",
    "    # Corresponds to T in the paper (equivalent of stackexchange's T* method linked above)\n",
    "    def bellman_optimatlity_operator(self, V, update_n_calls = True):\n",
    "        if update_n_calls: self.mdp.n_calls += self.mdp.n_states * len(Action)\n",
    "        R = self.mdp.R[self.mdp.T]\n",
    "        Pv = V[self.mdp.T]\n",
    "        V = np.max(R + self.mdp.discount_factor * Pv, 1)\n",
    "        return V\n",
    "    \n",
    "    def NC_bellman_λ_operator(self, V, λ, policy, update_n_calls = True):\n",
    "        P = self.get_bellman_transition_kernel(policy)\n",
    "        Tv = self.bellman_operator(V, update_n_calls, policy)\n",
    "        inv = np.linalg.inv(np.eye(*P.shape)-self.mdp.discount_factor*λ*P)\n",
    "        V = V + inv.dot(Tv - V)\n",
    "        return V\n",
    "    \n",
    "    def bellman_λ_operator(self, V, λ, h, policy, update_n_calls = True):\n",
    "        for i in range(h - 1):\n",
    "            V = self.bellman_optimatlity_operator(V, update_n_calls)\n",
    "        V = self.NC_bellman_λ_operator(V, λ, policy, update_n_calls)\n",
    "        return V\n",
    "    \n",
    "    # Corresponds to G_h in the paper\n",
    "    def get_h_greedy_policy(self, V, h = 1, update_n_calls = True):\n",
    "        for i in range(h - 1):\n",
    "            V = self.bellman_optimatlity_operator(V, update_n_calls)\n",
    "        V = self.bellman_operator(V, update_n_calls)\n",
    "        best_actions = np.argmax(V[self.mdp.T], 1)\n",
    "        policy = self.actions_to_greedy_policy(best_actions)\n",
    "        return policy, V\n",
    "    \n",
    "    def get_NC_λ_greedy_policy(self, V, λ = 1, h = 1, update_n_calls = True):\n",
    "        policy, _ = self.get_h_greedy_policy(V, h, update_n_calls)\n",
    "        V = self.NC_bellman_λ_operator(V, λ, policy, update_n_calls)\n",
    "        return policy, V\n",
    "    \n",
    "    def get_λ_greedy_policy(self, V, λ = 1, h = 1, update_n_calls = True):\n",
    "        policy, _ = self.get_h_greedy_policy(V, h, update_n_calls)\n",
    "        V = self.bellman_λ_operator(V, λ, h, policy, update_n_calls)\n",
    "        return policy, V"
   ]
  },
  {
   "cell_type": "markdown",
   "metadata": {},
   "source": [
    "## 2. Algorithms"
   ]
  },
  {
   "cell_type": "code",
   "execution_count": 3,
   "metadata": {
    "ExecuteTime": {
     "end_time": "2021-12-08T01:40:03.615220Z",
     "start_time": "2021-12-08T01:40:00.604Z"
    }
   },
   "outputs": [],
   "source": [
    "TOLERANCE = 1e-7\n",
    "\n",
    "def value_or_policy_iteration(mdp = MDP(), tolerance = TOLERANCE):\n",
    "    pass\n",
    "\n",
    "def h_PI(mdp, h = 1, tolerance = TOLERANCE):\n",
    "    if mdp.discount_factor < 0 or mdp.discount_factor >= 1:\n",
    "        raise ValueError(\"h_PI() will not converge unless discount_factor ∈ [0, 1[\")\n",
    "    Vs = [mdp.V]\n",
    "    while True:\n",
    "        policy, V = mdp.utils.get_h_greedy_policy(Vs[-1], h)\n",
    "        Vs.append(V)\n",
    "        if np.allclose(Vs[-1], Vs[-2], tolerance): break\n",
    "    print(f'Reached convergence in {len(Vs)} iterations.')\n",
    "    return policy, V\n",
    "\n",
    "def NC_hm_PI(mdp, h = 1, m = 1, tolerance = TOLERANCE):\n",
    "    pass\n",
    "\n",
    "def hm_PI(mdp, h = 1, m = 1, tolerance = TOLERANCE):\n",
    "    pass\n",
    "\n",
    "def NC_hλ_PI(mdp, h = 1, λ = 1, tolerance = TOLERANCE):\n",
    "    Vs = [mdp.V]\n",
    "    while True:\n",
    "        policy, V = mdp.utils.get_NC_λ_greedy_policy(Vs[-1], λ, h)\n",
    "        Vs.append(V)\n",
    "        if np.allclose(Vs[-1], Vs[-2], tolerance): break\n",
    "    print(f'Reached convergence in {len(Vs)} iterations.')\n",
    "    return policy, V\n",
    "\n",
    "def hλ_PI(mdp, h = 1, λ = 1, tolerance = TOLERANCE):\n",
    "    Vs = [mdp.V]\n",
    "    while True:\n",
    "        policy, V = mdp.utils.get_λ_greedy_policy(Vs[-1], λ, h)\n",
    "        Vs.append(V)\n",
    "        if np.allclose(Vs[-1], Vs[-2], tolerance): break\n",
    "    print(f'Reached convergence in {len(Vs)} iterations.')\n",
    "    return policy, V"
   ]
  },
  {
   "cell_type": "markdown",
   "metadata": {},
   "source": [
    "## 3. Experiments"
   ]
  },
  {
   "cell_type": "code",
   "execution_count": 4,
   "metadata": {
    "ExecuteTime": {
     "end_time": "2021-12-08T01:40:07.407831Z",
     "start_time": "2021-12-08T01:40:06.490959Z"
    }
   },
   "outputs": [
    {
     "name": "stdout",
     "output_type": "stream",
     "text": [
      "Reached convergence in 235 iterations.\n"
     ]
    },
    {
     "data": {
      "image/png": "[encoded data removed]",
      "text/plain": [
       "<Figure size 432x288 with 2 Axes>"
      ]
     },
     "metadata": {
      "needs_background": "light"
     },
     "output_type": "display_data"
    },
    {
     "data": {
      "image/png": "[encoded data removed]",
      "text/plain": [
       "<Figure size 432x288 with 2 Axes>"
      ]
     },
     "metadata": {
      "needs_background": "light"
     },
     "output_type": "display_data"
    },
    {
     "data": {
      "image/png": "[encoded data removed]",
      "text/plain": [
       "<Figure size 432x288 with 1 Axes>"
      ]
     },
     "metadata": {
      "needs_background": "light"
     },
     "output_type": "display_data"
    },
    {
     "name": "stdout",
     "output_type": "stream",
     "text": [
      "Number of calls to 'simulator': 526500\n"
     ]
    }
   ],
   "source": [
    "# h_PI example\n",
    "mdp = MDP(N = 15)\n",
    "policy, V = h_PI(mdp, h = 2)\n",
    "mdp.displayer.display_rewards(title = \"MDP's rewards\")\n",
    "mdp.displayer.display_heatmap(V)\n",
    "mdp.displayer.display_actions(mdp.utils.greedy_policy_to_actions(policy), title = \"h-greedy's calculated best actions\")\n",
    "print(f\"Number of calls to 'simulator': {mdp.n_calls}\")"
   ]
  },
  {
   "cell_type": "code",
   "execution_count": 5,
   "metadata": {},
   "outputs": [
    {
     "name": "stdout",
     "output_type": "stream",
     "text": [
      "Reached convergence in 35 iterations.\n"
     ]
    },
    {
     "data": {
      "image/png": "[encoded data removed]",
      "text/plain": [
       "<Figure size 432x288 with 2 Axes>"
      ]
     },
     "metadata": {
      "needs_background": "light"
     },
     "output_type": "display_data"
    },
    {
     "data": {
      "image/png": "[encoded data removed]",
      "text/plain": [
       "<Figure size 432x288 with 2 Axes>"
      ]
     },
     "metadata": {
      "needs_background": "light"
     },
     "output_type": "display_data"
    },
    {
     "data": {
      "image/png": "[encoded data removed]",
      "text/plain": [
       "<Figure size 432x288 with 1 Axes>"
      ]
     },
     "metadata": {
      "needs_background": "light"
     },
     "output_type": "display_data"
    },
    {
     "name": "stdout",
     "output_type": "stream",
     "text": [
      "Number of calls to 'simulator': 420750\n"
     ]
    }
   ],
   "source": [
    "# NC_hλ_PI example\n",
    "mdp.reset()\n",
    "policy, V = NC_hλ_PI(mdp, h = 10, λ=0.95)\n",
    "mdp.displayer.display_rewards(title = \"MDP's rewards\")\n",
    "mdp.displayer.display_heatmap(V)\n",
    "mdp.displayer.display_actions(mdp.utils.greedy_policy_to_actions(policy), title = \"NC_hλ_PI's calculated best actions\")\n",
    "print(f\"Number of calls to 'simulator': {mdp.n_calls}\")"
   ]
  },
  {
   "cell_type": "code",
   "execution_count": 6,
   "metadata": {},
   "outputs": [
    {
     "name": "stdout",
     "output_type": "stream",
     "text": [
      "Reached convergence in 24 iterations.\n"
     ]
    },
    {
     "data": {
      "image/png": "[encoded data removed]",
      "text/plain": [
       "<Figure size 432x288 with 2 Axes>"
      ]
     },
     "metadata": {
      "needs_background": "light"
     },
     "output_type": "display_data"
    },
    {
     "data": {
      "image/png": "[encoded data removed]",
      "text/plain": [
       "<Figure size 432x288 with 2 Axes>"
      ]
     },
     "metadata": {
      "needs_background": "light"
     },
     "output_type": "display_data"
    },
    {
     "data": {
      "image/png": "[encoded data removed]",
      "text/plain": [
       "<Figure size 432x288 with 1 Axes>"
      ]
     },
     "metadata": {
      "needs_background": "light"
     },
     "output_type": "display_data"
    },
    {
     "name": "stdout",
     "output_type": "stream",
     "text": [
      "Number of calls to 'simulator': 517500\n"
     ]
    }
   ],
   "source": [
    "mdp.reset()\n",
    "policy, V = hλ_PI(mdp, h = 10, λ=0.95)\n",
    "mdp.displayer.display_rewards(title = \"MDP's rewards\")\n",
    "mdp.displayer.display_heatmap(V)\n",
    "mdp.displayer.display_actions(mdp.utils.greedy_policy_to_actions(policy), title = \"NC_hλ_PI's calculated best actions\")\n",
    "print(f\"Number of calls to 'simulator': {mdp.n_calls}\")"
   ]
  },
  {
   "cell_type": "code",
   "execution_count": null,
   "metadata": {},
   "outputs": [],
   "source": []
  }
 ],
 "metadata": {
  "kernelspec": {
   "display_name": "Python 3 (ipykernel)",
   "language": "python",
   "name": "python3"
  },
  "language_info": {
   "codemirror_mode": {
    "name": "ipython",
    "version": 3
   },
   "file_extension": ".py",
   "mimetype": "text/x-python",
   "name": "python",
   "nbconvert_exporter": "python",
   "pygments_lexer": "ipython3",
   "version": "3.7.11"
  },
  "varInspector": {
   "cols": {
    "lenName": 16,
    "lenType": 16,
    "lenVar": 40
   },
   "kernels_config": {
    "python": {
     "delete_cmd_postfix": "",
     "delete_cmd_prefix": "del ",
     "library": "var_list.py",
     "varRefreshCmd": "print(var_dic_list())"
    },
    "r": {
     "delete_cmd_postfix": ") ",
     "delete_cmd_prefix": "rm(",
     "library": "var_list.r",
     "varRefreshCmd": "cat(var_dic_list()) "
    }
   },
   "types_to_exclude": [
    "module",
    "function",
    "builtin_function_or_method",
    "instance",
    "_Feature"
   ],
   "window_display": false
  }
 },
 "nbformat": 4,
 "nbformat_minor": 2
}
