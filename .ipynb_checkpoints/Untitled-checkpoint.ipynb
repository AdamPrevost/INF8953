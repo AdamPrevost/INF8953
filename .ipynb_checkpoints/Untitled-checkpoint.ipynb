{
 "cells": [
  {
   "cell_type": "markdown",
   "metadata": {},
   "source": [
    "# RL Project"
   ]
  },
  {
   "cell_type": "code",
   "execution_count": 190,
   "metadata": {
    "ExecuteTime": {
     "end_time": "2021-10-30T02:58:20.092037Z",
     "start_time": "2021-10-30T02:58:20.079072Z"
    }
   },
   "outputs": [],
   "source": [
    "# imports\n",
    "import numpy as np\n",
    "import matplotlib.pyplot as plt\n",
    "import matplotlib.colors as mcolors\n",
    "import matplotlib.patches as mpatches\n",
    "from enum import IntEnum"
   ]
  },
  {
   "cell_type": "markdown",
   "metadata": {},
   "source": [
    "## Environment"
   ]
  },
  {
   "cell_type": "code",
   "execution_count": 252,
   "metadata": {
    "ExecuteTime": {
     "end_time": "2021-10-30T03:36:11.906014Z",
     "start_time": "2021-10-30T03:36:11.807699Z"
    }
   },
   "outputs": [],
   "source": [
    "class Action(IntEnum):\n",
    "    UP = 0\n",
    "    DOWN = 1\n",
    "    LEFT = 2\n",
    "    RIGHT = 3\n",
    "    STAY = 4\n",
    "\n",
    "class MDP:\n",
    "    \n",
    "    # Use mdp.call(state, action) to get info on the environment\n",
    "    # Use mdp.step(action) to move the agent\n",
    "    # Use mdp.n_calls to get the number of calls made to the environnement\n",
    "    # Use mdp.reset() when the episode has ended to start over\n",
    "    # \n",
    "    # I might implement functions to do multiple calls and/or steps at once automatically\n",
    "\n",
    "    def __init__(self, N = 5, discount = 0.97, reward_range = 0.1): # discount is useless at the moment\n",
    "        self.N = N\n",
    "        self.discount = discount\n",
    "        self.reward_range = reward_range\n",
    "        self.reset()\n",
    "        self.T = self.generate_transition_matrix(N)\n",
    "        self.R = self.generate_rewards(N, reward_range)\n",
    "        self.V = self.generate_state_values(N)\n",
    "        self.displayer = MDP_Displayer(self)\n",
    "        self.utils = MDP_Utils(self)\n",
    "    \n",
    "    def generate_transition_matrix(self, N):\n",
    "        transition_matrix = np.zeros((N * N, len(Action)), dtype=int)\n",
    "        for s, state in enumerate(transition_matrix):\n",
    "            state[Action.UP] = s - N if s >= N else s\n",
    "            state[Action.DOWN] = s + N if s < N * N - N else s\n",
    "            state[Action.LEFT] = s - 1 if s % N else s\n",
    "            state[Action.RIGHT] = s + 1 if (s + 1) % N else s\n",
    "            state[Action.STAY] = s\n",
    "        return transition_matrix\n",
    "    \n",
    "    def generate_rewards(self, N, reward_range):\n",
    "        rewards = np.random.uniform(-reward_range, reward_range, N * N)\n",
    "        rewards[np.random.randint(0, N * N)] = 1\n",
    "        return rewards\n",
    "    \n",
    "    def generate_state_values(self, N):\n",
    "        return np.random.normal(size = N * N)\n",
    "    \n",
    "    def reset(self):\n",
    "        self.n_calls = 0\n",
    "        self.state = 0 # Paper does no mention what state to start on, 0 or random ?\n",
    "    \n",
    "    def step(self, action):\n",
    "        self.state = self.T[self.state, action]\n",
    "        return self.state, self.R[self.state]\n",
    "    \n",
    "    def call(self, state, action):\n",
    "        n_calls += 1\n",
    "        new_state = self.T[state, action]\n",
    "        return new_state, self.R[new_state]\n",
    "        \n",
    "class MDP_Displayer:\n",
    "    \n",
    "    def __init__(self, mdp):\n",
    "        self.mdp = mdp\n",
    "        self.set_action_colors()\n",
    "    \n",
    "    def display_rewards(self, numerical = False, colorbar = True, ticks = False, title = \"Rewards\"):\n",
    "        self.display_heatmap(self.mdp.R, numerical, colorbar, ticks, title)\n",
    "    \n",
    "    def display_state_values(self, numerical = False, colorbar = True, ticks = False, title = \"State values\"):\n",
    "        self.display_heatmap(self.mdp.V, numerical, colorbar, ticks, title)\n",
    "        \n",
    "    def display_actions_based_on_rewards(self, ticks = False, title = \"Actions based on rewards\"):\n",
    "        self.display_actions(self.mdp.utils.get_best_actions_based_on_rewards(), ticks, title)\n",
    "    \n",
    "    def display_actions_based_on_state_values(self, ticks = False, title = \"Actions based on state values\"):\n",
    "        self.display_actions(self.mdp.utils.get_best_actions_based_on_state_values(), ticks, title)\n",
    "    \n",
    "    def display_heatmap(self, array, numerical, colorbar, ticks, title):\n",
    "        data = np.reshape(array, (self.mdp.N, self.mdp.N))\n",
    "        if not ticks: self.remove_ticks()\n",
    "        if numerical: self.add_numerical(data)\n",
    "        plt.imshow(data)\n",
    "        plt.title(title)\n",
    "        if colorbar: plt.colorbar()\n",
    "        plt.show()\n",
    "        \n",
    "    def display_actions(self, actions, ticks, title):  \n",
    "        self.add_action_legend()\n",
    "        data = np.reshape(actions, (self.mdp.N, self.mdp.N))\n",
    "        if not ticks: self.remove_ticks()\n",
    "        plt.imshow(data, cmap = self.action_cmap, norm = self.action_norm)\n",
    "        plt.title(title)\n",
    "        plt.show()\n",
    "    \n",
    "    def remove_ticks(self):\n",
    "        plt.gca().set_xticklabels([])\n",
    "        plt.gca().set_yticklabels([])\n",
    "        for tick in plt.gca().xaxis.get_major_ticks():\n",
    "            tick.tick1line.set_visible(False)\n",
    "            tick.tick2line.set_visible(False)\n",
    "        for tick in plt.gca().yaxis.get_major_ticks():\n",
    "            tick.tick1line.set_visible(False)\n",
    "            tick.tick2line.set_visible(False)\n",
    "            \n",
    "    def add_numerical(self, data):\n",
    "        image = plt.imshow(data)\n",
    "        threshold = image.norm(data.max()) * 2/3\n",
    "        for i in range(len(data)):\n",
    "            for j in range(len(data[i])):\n",
    "                color = int(image.norm(data[i, j]) < threshold)\n",
    "                text = plt.gca().text(j, i, round(data[i, j], 2),\n",
    "                                      ha = \"center\", va = \"center\", color = str(color))\n",
    "    \n",
    "    def add_action_legend(self):\n",
    "        handles = []\n",
    "        for i, action in enumerate(Action):\n",
    "            handles.append(mpatches.Patch(color = self.action_colors[i],\n",
    "                                          label = str(action)[str(action).find(\".\") + 1:]))\n",
    "        plt.legend(title=\"Actions\", handles = handles, loc='upper left', bbox_to_anchor=(1, 1))\n",
    "        \n",
    "    def set_action_colors(self):\n",
    "        self.action_colors = [\"red\", \"blue\", \"green\", \"yellow\", \"purple\"]\n",
    "        self.action_cmap = mcolors.ListedColormap(self.action_colors)\n",
    "        self.action_norm = mcolors.BoundaryNorm(list(range(len(Action) + 1)), self.action_cmap.N)\n",
    "        \n",
    "class MDP_Utils:\n",
    "    \n",
    "    def __init__(self, mdp):\n",
    "        self.mdp = mdp\n",
    "    \n",
    "    def get_best_actions_based_on_rewards(self):\n",
    "        return np.argmax(self.mdp.R[self.mdp.T], 1)\n",
    "    \n",
    "    def get_best_actions_based_on_state_values(self):\n",
    "        return np.argmax(self.mdp.V[self.mdp.T], 1)"
   ]
  },
  {
   "cell_type": "code",
   "execution_count": 253,
   "metadata": {
    "ExecuteTime": {
     "end_time": "2021-10-30T03:36:13.213778Z",
     "start_time": "2021-10-30T03:36:12.245784Z"
    }
   },
   "outputs": [
    {
     "data": {
      "image/png": "[encoded data removed]",
      "text/plain": [
       "<Figure size 432x288 with 2 Axes>"
      ]
     },
     "metadata": {
      "needs_background": "light"
     },
     "output_type": "display_data"
    },
    {
     "data": {
      "image/png": "[encoded data removed]",
      "text/plain": [
       "<Figure size 432x288 with 1 Axes>"
      ]
     },
     "metadata": {
      "needs_background": "light"
     },
     "output_type": "display_data"
    },
    {
     "data": {
      "image/png": "[encoded data removed]",
      "text/plain": [
       "<Figure size 432x288 with 2 Axes>"
      ]
     },
     "metadata": {
      "needs_background": "light"
     },
     "output_type": "display_data"
    },
    {
     "data": {
      "image/png": "[encoded data removed]",
      "text/plain": [
       "<Figure size 432x288 with 1 Axes>"
      ]
     },
     "metadata": {
      "needs_background": "light"
     },
     "output_type": "display_data"
    }
   ],
   "source": [
    "# Example\n",
    "\n",
    "mdp = MDP()\n",
    "\n",
    "# Run algorithms with call(), step(), n_calls & reset()\n",
    "\n",
    "# Display stuff to help visualize\n",
    "mdp.displayer.display_rewards()\n",
    "mdp.displayer.display_actions_based_on_rewards()\n",
    "mdp.displayer.display_state_values()\n",
    "mdp.displayer.display_actions_based_on_state_values()"
   ]
  },
  {
   "cell_type": "code",
   "execution_count": null,
   "metadata": {},
   "outputs": [],
   "source": []
  }
 ],
 "metadata": {
  "kernelspec": {
   "display_name": "Python 3",
   "language": "python",
   "name": "python3"
  },
  "varInspector": {
   "cols": {
    "lenName": 16,
    "lenType": 16,
    "lenVar": 40
   },
   "kernels_config": {
    "python": {
     "delete_cmd_postfix": "",
     "delete_cmd_prefix": "del ",
     "library": "var_list.py",
     "varRefreshCmd": "print(var_dic_list())"
    },
    "r": {
     "delete_cmd_postfix": ") ",
     "delete_cmd_prefix": "rm(",
     "library": "var_list.r",
     "varRefreshCmd": "cat(var_dic_list()) "
    }
   },
   "types_to_exclude": [
    "module",
    "function",
    "builtin_function_or_method",
    "instance",
    "_Feature"
   ],
   "window_display": false
  }
 },
 "nbformat": 4,
 "nbformat_minor": 2
}
